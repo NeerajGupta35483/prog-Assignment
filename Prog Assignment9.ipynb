{
 "cells": [
  {
   "cell_type": "markdown",
   "id": "4b2d8bf1",
   "metadata": {},
   "source": [
    "1. Write a Python program to check if the given number is a Disarium Number?"
   ]
  },
  {
   "cell_type": "code",
   "execution_count": 1,
   "id": "7a9e660c",
   "metadata": {},
   "outputs": [],
   "source": [
    "def disariumNumb(num):\n",
    "    str_num = str(num)\n",
    "    sum = 0\n",
    "    for a,i in enumerate(str_num):\n",
    "        sum = sum + int(i) ** (a+1)\n",
    "    if num == sum:\n",
    "        print(f\"{num} is Disarium Number\")\n",
    "    else:\n",
    "        print(f\"{num} is not Disarium Number\")"
   ]
  },
  {
   "cell_type": "code",
   "execution_count": 2,
   "id": "db479f37",
   "metadata": {},
   "outputs": [
    {
     "name": "stdout",
     "output_type": "stream",
     "text": [
      "175 is Disarium Number\n"
     ]
    }
   ],
   "source": [
    "disariumNumb(175)"
   ]
  },
  {
   "cell_type": "code",
   "execution_count": 3,
   "id": "751fa51f",
   "metadata": {},
   "outputs": [
    {
     "name": "stdout",
     "output_type": "stream",
     "text": [
      "175 is a Disarium Number\n"
     ]
    }
   ],
   "source": [
    "# alternate way to check Disarium Number\n",
    "def calculateLength(numb):\n",
    "    len = 0\n",
    "    while(numb>0):\n",
    "        len = len + 1\n",
    "        numb = numb // 10\n",
    "    return len\n",
    "\n",
    "num = 175\n",
    "lenOfnumb = calculateLength(num)\n",
    "sum = 0\n",
    "copy_numb = num\n",
    "\n",
    "while(num>0):\n",
    "    rem = num%10\n",
    "    sum = sum + (rem ** lenOfnumb)\n",
    "    num = num//10\n",
    "    lenOfnumb = lenOfnumb - 1\n",
    "    \n",
    "if (copy_numb == sum):\n",
    "    print(f\"{copy_numb} is a Disarium Number\")\n",
    "else:\n",
    "    print(f\"{copy_numb} is not a Disarium Number\")"
   ]
  },
  {
   "cell_type": "markdown",
   "id": "87c5dcf8",
   "metadata": {},
   "source": [
    "2. Write a Python program to print all disarium numbers between 1 to 100?"
   ]
  },
  {
   "cell_type": "code",
   "execution_count": 4,
   "id": "59a22909",
   "metadata": {},
   "outputs": [],
   "source": [
    "def rangeDisariumNumb(numb):\n",
    "    print(f\"Disarium Number in range 1 to {numb}: \")\n",
    "    for i in range(1,numb):\n",
    "        str_num = str(i)\n",
    "        sum = 0\n",
    "        for a,b in enumerate(str_num):\n",
    "            sum = sum + int(b) ** (a+1)\n",
    "            \n",
    "        if i == sum:\n",
    "            print(i,end=\" \")"
   ]
  },
  {
   "cell_type": "code",
   "execution_count": 5,
   "id": "cec24dd0",
   "metadata": {},
   "outputs": [
    {
     "name": "stdout",
     "output_type": "stream",
     "text": [
      "Disarium Number in range 1 to 100: \n",
      "1 2 3 4 5 6 7 8 9 89 "
     ]
    }
   ],
   "source": [
    "rangeDisariumNumb(100)"
   ]
  },
  {
   "cell_type": "code",
   "execution_count": 6,
   "id": "95bb62f0",
   "metadata": {},
   "outputs": [
    {
     "name": "stdout",
     "output_type": "stream",
     "text": [
      "1 2 3 4 5 6 7 8 9 89 "
     ]
    }
   ],
   "source": [
    "# Alternate way to print Disarium Number in range 1 to 100\n",
    "def checkDisariumNum(numb):\n",
    "    sum = 0\n",
    "    while(numb>0):\n",
    "        numb_len = len(str(numb))\n",
    "        rem = numb % 10\n",
    "        sum = sum + (rem ** numb_len)\n",
    "        numb = numb // 10\n",
    "        numb_len = numb_len - 1\n",
    "        \n",
    "    return sum\n",
    "    \n",
    "    \n",
    "for i in range(1,100):\n",
    "    if (i == checkDisariumNum(i)):\n",
    "        print(i,end=\" \")"
   ]
  },
  {
   "cell_type": "markdown",
   "id": "09df78c3",
   "metadata": {},
   "source": [
    "3. Write a Python program to check if the given number is Happy Number?"
   ]
  },
  {
   "cell_type": "code",
   "execution_count": 7,
   "id": "4131fada",
   "metadata": {},
   "outputs": [
    {
     "name": "stdout",
     "output_type": "stream",
     "text": [
      "Enter The Number: 20\n",
      "4\n",
      "20 is not a Happy Number\n"
     ]
    }
   ],
   "source": [
    "# numsquareSum() method will determine whether the number is happy or not\n",
    "def numsquareSum(numb):\n",
    "    sum = 0\n",
    "    #Calculates the sum of squares of digits\n",
    "    while(numb>0):\n",
    "        rem = numb % 10\n",
    "        sum= sum + (rem * rem)\n",
    "        numb = numb // 10\n",
    "    \n",
    "    return sum\n",
    "\n",
    "\n",
    "numb = int(input(\"Enter The Number: \"))\n",
    "result = numb\n",
    "\n",
    "while(result!=1 and result!=4):\n",
    "    result = numsquareSum(result)\n",
    "    print(result)\n",
    "\n",
    "# Happy number always end with 1    \n",
    "if(result == 1):\n",
    "    print(f\"{numb} is a Happy Number\")\n",
    "#Unhappy number ends in a cycle of repeating numbers which contain 4  \n",
    "elif(result == 4):\n",
    "    print(f\"{numb} is not a Happy Number\")"
   ]
  },
  {
   "cell_type": "markdown",
   "id": "34a5c340",
   "metadata": {},
   "source": [
    "4. Write a Python program to print all happy numbers between 1 and 100?"
   ]
  },
  {
   "cell_type": "code",
   "execution_count": 8,
   "id": "67015910",
   "metadata": {},
   "outputs": [
    {
     "name": "stdout",
     "output_type": "stream",
     "text": [
      "The Happy Number between 1 and 100 is: \n",
      "\n",
      "1 7 10 13 19 23 28 31 32 44 49 68 70 79 82 86 91 94 97 100 "
     ]
    }
   ],
   "source": [
    "def happyNumCheck(numb):\n",
    "    sum = 0\n",
    "    while(numb>0):\n",
    "        rem = numb % 10\n",
    "        sum = sum + (rem * rem)\n",
    "        numb = numb // 10\n",
    "    \n",
    "    return sum\n",
    "    \n",
    "\n",
    "print(\"The Happy Number between 1 and 100 is: \\n\")\n",
    "for i in range(1,101):\n",
    "    result = i\n",
    "    while(result!=1 and result!=4):\n",
    "        result = happyNumCheck(result)\n",
    "        \n",
    "    if(result==1):\n",
    "        print(i,end=\" \")"
   ]
  },
  {
   "cell_type": "markdown",
   "id": "b7417de5",
   "metadata": {},
   "source": [
    "5. Write a Python program to determine whether the given number is a Harshad Number?"
   ]
  },
  {
   "cell_type": "code",
   "execution_count": 9,
   "id": "8842f28f",
   "metadata": {},
   "outputs": [
    {
     "name": "stdout",
     "output_type": "stream",
     "text": [
      "Enter The Number456\n",
      "456 is not Harshad Number\n"
     ]
    }
   ],
   "source": [
    "# method to check the number is harshad number or not\n",
    "def harshadNumber(numb):\n",
    "    str_numb = str(numb)\n",
    "    sum = 0\n",
    "    for i in str_numb:\n",
    "        sum = sum + int(i)\n",
    "        \n",
    "    if(numb%sum == 0):\n",
    "        print(f\"{numb} is a Harshad Number\")\n",
    "    else:\n",
    "        print(f\"{numb} is not Harshad Number\")\n",
    "        \n",
    "harshad_num = int(input(\"Enter The Number\"))\n",
    "harshadNumber(harshad_num)"
   ]
  },
  {
   "cell_type": "markdown",
   "id": "36aa7630",
   "metadata": {},
   "source": [
    "6. Write a Python program to print all pronic numbers between 1 and 100?"
   ]
  },
  {
   "cell_type": "code",
   "execution_count": 10,
   "id": "fd346639",
   "metadata": {},
   "outputs": [],
   "source": [
    "def pronicNumber(n):\n",
    "    for i in range(1,100):\n",
    "        pronic_numb = i * (i+1)\n",
    "        if(pronic_numb<100):\n",
    "            print(pronic_numb)\n",
    "        else:\n",
    "            break\n",
    "        "
   ]
  },
  {
   "cell_type": "code",
   "execution_count": 11,
   "id": "ed7c784e",
   "metadata": {},
   "outputs": [
    {
     "name": "stdout",
     "output_type": "stream",
     "text": [
      "Pronic Numbers between 1 and 100 are:\n",
      "2\n",
      "6\n",
      "12\n",
      "20\n",
      "30\n",
      "42\n",
      "56\n",
      "72\n",
      "90\n"
     ]
    }
   ],
   "source": [
    "print(\"Pronic Numbers between 1 and 100 are:\")\n",
    "pronicNumber(10)"
   ]
  },
  {
   "cell_type": "code",
   "execution_count": 12,
   "id": "1d1c4a24",
   "metadata": {},
   "outputs": [
    {
     "name": "stdout",
     "output_type": "stream",
     "text": [
      "Pronic Numbers between 1 and 100 are:\n",
      "2\n",
      "6\n",
      "12\n",
      "20\n",
      "30\n",
      "42\n",
      "56\n",
      "72\n",
      "90\n"
     ]
    }
   ],
   "source": [
    "# Alternate way to check pronic number\n",
    "def pronicCheck(n):\n",
    "    pronic = False\n",
    "    for i in range(1,n+1):\n",
    "        if i * (i+1) == n:\n",
    "            pronic = True\n",
    "            break\n",
    "    return pronic\n",
    "\n",
    "print(\"Pronic Numbers between 1 and 100 are:\")\n",
    "for i in range(1,101):\n",
    "    if pronicCheck(i):\n",
    "        print(i)"
   ]
  },
  {
   "cell_type": "code",
   "execution_count": null,
   "id": "c93af708",
   "metadata": {},
   "outputs": [],
   "source": []
  }
 ],
 "metadata": {
  "kernelspec": {
   "display_name": "Python 3 (ipykernel)",
   "language": "python",
   "name": "python3"
  },
  "language_info": {
   "codemirror_mode": {
    "name": "ipython",
    "version": 3
   },
   "file_extension": ".py",
   "mimetype": "text/x-python",
   "name": "python",
   "nbconvert_exporter": "python",
   "pygments_lexer": "ipython3",
   "version": "3.9.7"
  }
 },
 "nbformat": 4,
 "nbformat_minor": 5
}
