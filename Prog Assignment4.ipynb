{
 "cells": [
  {
   "cell_type": "markdown",
   "id": "20abdaa1",
   "metadata": {},
   "source": [
    "1. Write a Python Program to Find the Factorial of a Number?"
   ]
  },
  {
   "cell_type": "code",
   "execution_count": 1,
   "id": "88e67f95",
   "metadata": {},
   "outputs": [
    {
     "name": "stdout",
     "output_type": "stream",
     "text": [
      "Enter The Number: 6\n",
      "Factorial of 6 is 720\n"
     ]
    }
   ],
   "source": [
    "def fact(num):\n",
    "    product = 1\n",
    "    for i in range(num):\n",
    "        product = product * (i+1)\n",
    "    print(f\"Factorial of {num} is {product}\")\n",
    "    \n",
    "numb = int(input(\"Enter The Number: \"))\n",
    "\n",
    "fact(numb)"
   ]
  },
  {
   "cell_type": "markdown",
   "id": "ad35b952",
   "metadata": {},
   "source": [
    "2. Write a Python Program to Display the multiplication Table?"
   ]
  },
  {
   "cell_type": "code",
   "execution_count": 2,
   "id": "4b359fa3",
   "metadata": {},
   "outputs": [
    {
     "name": "stdout",
     "output_type": "stream",
     "text": [
      "Enter the number to find Multiplication Table: 7\n",
      "The Multiplication table of 7 is:\n",
      "\n",
      "7 X 1 = 7\n",
      "7 X 2 = 14\n",
      "7 X 3 = 21\n",
      "7 X 4 = 28\n",
      "7 X 5 = 35\n",
      "7 X 6 = 42\n",
      "7 X 7 = 49\n",
      "7 X 8 = 56\n",
      "7 X 9 = 63\n",
      "7 X 10 = 70\n"
     ]
    }
   ],
   "source": [
    "def mulTable(numb):\n",
    "    print(f\"The Multiplication table of {numb} is:\\n\")\n",
    "    for i in range(1,11):\n",
    "        print(f\"{numb} X {i} = {numb * i}\")\n",
    "        \n",
    "num = int(input(\"Enter the number to find Multiplication Table: \"))\n",
    "mulTable(num)"
   ]
  },
  {
   "cell_type": "markdown",
   "id": "6c902c3d",
   "metadata": {},
   "source": [
    "3. Write a Python Program to Print the Fibonacci sequence?"
   ]
  },
  {
   "cell_type": "code",
   "execution_count": 3,
   "id": "6169f3e1",
   "metadata": {},
   "outputs": [
    {
     "name": "stdout",
     "output_type": "stream",
     "text": [
      "The Fibonacci Series of 5th term is:\n",
      "0,1,1,2,3\n"
     ]
    }
   ],
   "source": [
    "def fibonacciNumb(numb):\n",
    "    prev = 0\n",
    "    nex = 1\n",
    "    \n",
    "    print(f\"The Fibonacci Series of {numb}th term is:\")\n",
    "    for i in range(numb):\n",
    "        if i<(numb-1):\n",
    "            print(prev,end=\",\")\n",
    "        else:\n",
    "            print(prev)\n",
    "        prev , nex = nex , prev + nex\n",
    "        \n",
    "    \n",
    "    \n",
    "fibonacciNumb(5)"
   ]
  },
  {
   "cell_type": "markdown",
   "id": "4e5a4e91",
   "metadata": {},
   "source": [
    "4. Write a Python Program to Check Armstrong Number?"
   ]
  },
  {
   "cell_type": "code",
   "execution_count": 4,
   "id": "65858540",
   "metadata": {},
   "outputs": [
    {
     "name": "stdout",
     "output_type": "stream",
     "text": [
      "Enter The Number: 3456\n",
      "3456 is not an Armstrong Number\n"
     ]
    }
   ],
   "source": [
    "def armStrong(numb):\n",
    "    order= len(numb)\n",
    "    numb= int(numb)\n",
    "    copy_n = numb\n",
    "    sum=0\n",
    "\n",
    "    while(numb>0):\n",
    "        digit= numb%10\n",
    "        sum= sum + (digit ** order)\n",
    "        numb= numb//10\n",
    "\n",
    "    if(sum == copy_n):\n",
    "        return True\n",
    "    else:\n",
    "        return False\n",
    "\n",
    "    \n",
    "num= input(\"Enter The Number: \")\n",
    "armstrongNumb = armStrong(num)\n",
    "if(armstrongNumb):\n",
    "    print(f\"{num} is Armstrong Number\")\n",
    "else:\n",
    "    print(f\"{num} is not an Armstrong Number\")"
   ]
  },
  {
   "cell_type": "markdown",
   "id": "0cb1558f",
   "metadata": {},
   "source": [
    "5. Write a Python Program to Find Armstrong Number in an Interval?"
   ]
  },
  {
   "cell_type": "code",
   "execution_count": 5,
   "id": "385d84c0",
   "metadata": {},
   "outputs": [
    {
     "name": "stdout",
     "output_type": "stream",
     "text": [
      "[1, 2, 3, 4, 5, 6, 7, 8, 9, 153, 370, 371, 407]\n"
     ]
    }
   ],
   "source": [
    "arm_list = []\n",
    "for i in range(1,1000):\n",
    "    order = len(str(i))\n",
    "    sums = 0\n",
    "    copy_i = i\n",
    "    while(i>0):\n",
    "        digit = i % 10\n",
    "        sums = sums + (digit ** order)\n",
    "        i = i // 10\n",
    "    if(sums == copy_i):\n",
    "        arm_list.append(copy_i)\n",
    "        \n",
    "print(arm_list)"
   ]
  },
  {
   "cell_type": "markdown",
   "id": "ce75c166",
   "metadata": {},
   "source": [
    "6. Write a Python Program to Find the Sum of Natural Numbers?"
   ]
  },
  {
   "cell_type": "code",
   "execution_count": 6,
   "id": "c9ae05b8",
   "metadata": {},
   "outputs": [
    {
     "name": "stdout",
     "output_type": "stream",
     "text": [
      "Enter the Number: 6\n",
      "Sum of 6th term natural number is 21\n"
     ]
    }
   ],
   "source": [
    "numb = int(input(\"Enter the Number: \"))\n",
    "sum = 0\n",
    "i = 1\n",
    "while(i<=numb):\n",
    "    sum = sum + i\n",
    "    i = i + 1\n",
    "    \n",
    "print(f\"Sum of {numb}th term natural number is {sum}\")"
   ]
  },
  {
   "cell_type": "code",
   "execution_count": null,
   "id": "603014d6",
   "metadata": {},
   "outputs": [],
   "source": []
  }
 ],
 "metadata": {
  "kernelspec": {
   "display_name": "Python 3 (ipykernel)",
   "language": "python",
   "name": "python3"
  },
  "language_info": {
   "codemirror_mode": {
    "name": "ipython",
    "version": 3
   },
   "file_extension": ".py",
   "mimetype": "text/x-python",
   "name": "python",
   "nbconvert_exporter": "python",
   "pygments_lexer": "ipython3",
   "version": "3.9.7"
  }
 },
 "nbformat": 4,
 "nbformat_minor": 5
}
