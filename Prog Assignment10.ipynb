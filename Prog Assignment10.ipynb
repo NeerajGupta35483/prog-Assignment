{
 "cells": [
  {
   "cell_type": "markdown",
   "id": "5b28db89",
   "metadata": {},
   "source": [
    "1. Write a Python program to find sum of elements in list?"
   ]
  },
  {
   "cell_type": "code",
   "execution_count": 1,
   "id": "2e190a81",
   "metadata": {},
   "outputs": [
    {
     "name": "stdout",
     "output_type": "stream",
     "text": [
      "21\n"
     ]
    }
   ],
   "source": [
    "l = [1,2,3,4,5,6]\n",
    "sum = 0\n",
    "for i in l:\n",
    "    sum = sum + i\n",
    "    \n",
    "print(sum)"
   ]
  },
  {
   "cell_type": "markdown",
   "id": "282e2f1f",
   "metadata": {},
   "source": [
    "2. Write a Python program to Multiply all numbers in the list?"
   ]
  },
  {
   "cell_type": "code",
   "execution_count": 2,
   "id": "1ac00de0",
   "metadata": {},
   "outputs": [
    {
     "name": "stdout",
     "output_type": "stream",
     "text": [
      "120\n"
     ]
    }
   ],
   "source": [
    "l = [1,2,3,4,5]\n",
    "mul = 1\n",
    "for i in l:\n",
    "    mul = mul * i\n",
    "    \n",
    "print(mul)"
   ]
  },
  {
   "cell_type": "markdown",
   "id": "4ad7983d",
   "metadata": {},
   "source": [
    "3. Write a Python program to find smallest number in a list?"
   ]
  },
  {
   "cell_type": "code",
   "execution_count": 3,
   "id": "a86b8557",
   "metadata": {},
   "outputs": [
    {
     "name": "stdout",
     "output_type": "stream",
     "text": [
      "2\n"
     ]
    }
   ],
   "source": [
    "l = [8,5,4,2,9,10]\n",
    "\n",
    "minimum = l[0]\n",
    "for i in range(len(l)):\n",
    "    if l[i]<minimum:\n",
    "        minimum = l[i]\n",
    "        \n",
    "        \n",
    "print(minimum)"
   ]
  },
  {
   "cell_type": "code",
   "execution_count": 4,
   "id": "d673d496",
   "metadata": {},
   "outputs": [
    {
     "data": {
      "text/plain": [
       "2"
      ]
     },
     "execution_count": 4,
     "metadata": {},
     "output_type": "execute_result"
    }
   ],
   "source": [
    "# ALternate way to print minimum value in the list\n",
    "l = [8,5,4,2,9,10]\n",
    "min(l)"
   ]
  },
  {
   "cell_type": "markdown",
   "id": "b19797a4",
   "metadata": {},
   "source": [
    "4. Write a Python program to find largest number in a list?"
   ]
  },
  {
   "cell_type": "code",
   "execution_count": 5,
   "id": "d40d3c78",
   "metadata": {},
   "outputs": [
    {
     "name": "stdout",
     "output_type": "stream",
     "text": [
      "12\n"
     ]
    }
   ],
   "source": [
    "l = [8,5,4,12,9,10]\n",
    "maximum = 0\n",
    "for i in range(len(l)):\n",
    "    if l[i]>maximum:\n",
    "        maximum = l[i]\n",
    "        \n",
    "print(maximum)"
   ]
  },
  {
   "cell_type": "code",
   "execution_count": 6,
   "id": "fbe117d5",
   "metadata": {},
   "outputs": [
    {
     "data": {
      "text/plain": [
       "12"
      ]
     },
     "execution_count": 6,
     "metadata": {},
     "output_type": "execute_result"
    }
   ],
   "source": [
    "# ALternate way to print maximum value in the list\n",
    "l = [8,5,4,12,9,10]\n",
    "max(l)"
   ]
  },
  {
   "cell_type": "markdown",
   "id": "cfba5086",
   "metadata": {},
   "source": [
    "5. Write a Python program to find second largest number in a list?"
   ]
  },
  {
   "cell_type": "code",
   "execution_count": 7,
   "id": "1ee7d883",
   "metadata": {},
   "outputs": [
    {
     "name": "stdout",
     "output_type": "stream",
     "text": [
      "10\n"
     ]
    }
   ],
   "source": [
    "# first and easiest way to find second largest number in a list\n",
    "l = [8,5,4,12,9,10]\n",
    "l.sort()\n",
    "print(l[-2])"
   ]
  },
  {
   "cell_type": "code",
   "execution_count": 8,
   "id": "0ee838b0",
   "metadata": {},
   "outputs": [
    {
     "name": "stdout",
     "output_type": "stream",
     "text": [
      "10\n"
     ]
    }
   ],
   "source": [
    "l = [8,5,4,12,9,10,1,2]\n",
    "for i in range(len(l)):\n",
    "    for j in range(len(l)-1):\n",
    "        if (l[j]>l[j+1]):\n",
    "            temp = l[j]\n",
    "            l[j] = l[j+1]\n",
    "            l[j+1] = temp\n",
    "    \n",
    "    \n",
    "print(l[-2])"
   ]
  },
  {
   "cell_type": "code",
   "execution_count": 9,
   "id": "f2c9f94f",
   "metadata": {},
   "outputs": [
    {
     "name": "stdout",
     "output_type": "stream",
     "text": [
      "10\n"
     ]
    }
   ],
   "source": [
    "# third way to find second largest number in a list\n",
    "l = [8,5,4,12,9,10]\n",
    "maximum = 0\n",
    "secondMaximum = 0     \n",
    "        \n",
    "for i in range(len(l)):\n",
    "    if l[i]>maximum:\n",
    "        maximum = l[i]\n",
    "        \n",
    "        \n",
    "for i in range(len(l)):\n",
    "    if(l[i]<maximum):\n",
    "        if l[i]>secondMaximum:\n",
    "            secondMaximum = l[i]\n",
    "            \n",
    "print(secondMaximum)"
   ]
  },
  {
   "cell_type": "markdown",
   "id": "d2d2db52",
   "metadata": {},
   "source": [
    "6. Write a Python program to find N largest elements from a list?"
   ]
  },
  {
   "cell_type": "code",
   "execution_count": 11,
   "id": "0c945561",
   "metadata": {},
   "outputs": [
    {
     "name": "stdout",
     "output_type": "stream",
     "text": [
      "List After sorting from minimum to maximum\n",
      "[1, 2, 4, 5, 8, 9, 10, 12]\n",
      "Enter The position of largest element: 3\n",
      "The 3 position large element is 9\n"
     ]
    }
   ],
   "source": [
    "l = [8,5,4,12,9,10,1,2]\n",
    "for i in range(len(l)):\n",
    "    for j in range(len(l)-1):\n",
    "        if (l[j]>l[j+1]):\n",
    "            temp = l[j]\n",
    "            l[j] = l[j+1]\n",
    "            l[j+1] = temp\n",
    "\n",
    "print(\"List After sorting from minimum to maximum\") \n",
    "print(l)\n",
    "            \n",
    "            \n",
    "large_element = int(input(\"Enter The position of largest element: \"))\n",
    "\n",
    "if (large_element > len(l)):\n",
    "    print(\"Enter Valid Number\")\n",
    "else:\n",
    "    print(f\"The {large_element} position large element is {l[-large_element]}\")"
   ]
  },
  {
   "cell_type": "markdown",
   "id": "9ce11338",
   "metadata": {},
   "source": [
    "7. Write a Python program to print even numbers in a list?"
   ]
  },
  {
   "cell_type": "code",
   "execution_count": 12,
   "id": "3643ed9e",
   "metadata": {},
   "outputs": [
    {
     "name": "stdout",
     "output_type": "stream",
     "text": [
      "8 4 12 10 2 "
     ]
    }
   ],
   "source": [
    "l = [8,5,4,12,9,10,1,2]\n",
    "\n",
    "for i in l:\n",
    "    if (i % 2 == 0):\n",
    "        print(i, end=\" \")"
   ]
  },
  {
   "cell_type": "markdown",
   "id": "9da53b8a",
   "metadata": {},
   "source": [
    "8. Write a Python program to print odd numbers in a List?"
   ]
  },
  {
   "cell_type": "code",
   "execution_count": 13,
   "id": "9b849670",
   "metadata": {},
   "outputs": [
    {
     "name": "stdout",
     "output_type": "stream",
     "text": [
      "5 9 1 "
     ]
    }
   ],
   "source": [
    "l = [8,5,4,12,9,10,1,2]\n",
    "\n",
    "for i in l:\n",
    "    if (i % 2 == 1):\n",
    "        print(i, end=\" \")"
   ]
  },
  {
   "cell_type": "markdown",
   "id": "ae2c9626",
   "metadata": {},
   "source": [
    "9. Write a Python program to Remove empty List from List?"
   ]
  },
  {
   "cell_type": "code",
   "execution_count": 14,
   "id": "d92fcd4a",
   "metadata": {},
   "outputs": [
    {
     "name": "stdout",
     "output_type": "stream",
     "text": [
      "[[1, 2, 3, 4], 55, 21, 2, 4, 5, 6, [55, 89, 75]]\n"
     ]
    }
   ],
   "source": [
    "l = [[1,2,3,4],55,21,2,[],4,5,6,[],[55,89,75]]\n",
    "for i in l:\n",
    "    if i == []:\n",
    "        l.remove(i)\n",
    "            \n",
    "print(l)"
   ]
  },
  {
   "cell_type": "markdown",
   "id": "7baa2071",
   "metadata": {},
   "source": [
    "10. Write a Python program to Cloning or Copying a list?\n"
   ]
  },
  {
   "cell_type": "code",
   "execution_count": 15,
   "id": "adfa2120",
   "metadata": {},
   "outputs": [
    {
     "name": "stdout",
     "output_type": "stream",
     "text": [
      "[1, 2, 3, 4, 5]\n"
     ]
    }
   ],
   "source": [
    "l = [1,2,3,4,5]\n",
    "l_copy = []\n",
    "for i in l:\n",
    "    l_copy.append(i)\n",
    "    \n",
    "print(l_copy)"
   ]
  },
  {
   "cell_type": "code",
   "execution_count": 16,
   "id": "58f1c4b4",
   "metadata": {},
   "outputs": [
    {
     "name": "stdout",
     "output_type": "stream",
     "text": [
      "[1, 2, 3, 4, 5]\n"
     ]
    }
   ],
   "source": [
    "# Alternate way\n",
    "l = [1,2,3,4,5]\n",
    "l_cop = l.copy()\n",
    "print(l_cop)"
   ]
  },
  {
   "cell_type": "markdown",
   "id": "7fa915ff",
   "metadata": {},
   "source": [
    "11. Write a Python program to Count occurrences of an element in a list?"
   ]
  },
  {
   "cell_type": "code",
   "execution_count": 17,
   "id": "cd30c156",
   "metadata": {},
   "outputs": [
    {
     "name": "stdout",
     "output_type": "stream",
     "text": [
      "1 --> 1\n",
      "2 --> 2\n",
      "3 --> 3\n",
      "4 --> 2\n",
      "5 --> 1\n",
      "2 has occured 2 times in the list\n"
     ]
    }
   ],
   "source": [
    "l = [1,2,2,3,3,3,4,4,5]\n",
    "occurance = 0\n",
    "for i in set(l):\n",
    "    print(f\"{i} --> {l.count(i)}\")\n",
    "    \n",
    "print(f\"{2} has occured {l.count(2)} times in the list\")"
   ]
  },
  {
   "cell_type": "code",
   "execution_count": null,
   "id": "b149131d",
   "metadata": {},
   "outputs": [],
   "source": []
  }
 ],
 "metadata": {
  "kernelspec": {
   "display_name": "Python 3 (ipykernel)",
   "language": "python",
   "name": "python3"
  },
  "language_info": {
   "codemirror_mode": {
    "name": "ipython",
    "version": 3
   },
   "file_extension": ".py",
   "mimetype": "text/x-python",
   "name": "python",
   "nbconvert_exporter": "python",
   "pygments_lexer": "ipython3",
   "version": "3.9.7"
  }
 },
 "nbformat": 4,
 "nbformat_minor": 5
}
