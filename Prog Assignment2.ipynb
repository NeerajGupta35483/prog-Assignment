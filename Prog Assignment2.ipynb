{
 "cells": [
  {
   "cell_type": "markdown",
   "id": "fb9d2512",
   "metadata": {},
   "source": [
    "1. Write a Python program to convert kilometers to miles?"
   ]
  },
  {
   "cell_type": "code",
   "execution_count": 1,
   "id": "8d56fce8",
   "metadata": {},
   "outputs": [
    {
     "name": "stdout",
     "output_type": "stream",
     "text": [
      "Enter the Kilometer value 6\n",
      "6 kilometer = 3.726 miles\n"
     ]
    }
   ],
   "source": [
    "def kiloTomile(kilo):\n",
    "    mile = kilo * 0.621\n",
    "    print(f\"{kilo} kilometer = {mile} miles\")\n",
    "    \n",
    "kilo = int(input(\"Enter the Kilometer value \"))    \n",
    "kiloTomile(kilo)    "
   ]
  },
  {
   "cell_type": "markdown",
   "id": "578a4f4f",
   "metadata": {},
   "source": [
    "2. Write a Python program to convert Celsius to Fahrenheit?\n"
   ]
  },
  {
   "cell_type": "code",
   "execution_count": 2,
   "id": "b25c985c",
   "metadata": {},
   "outputs": [
    {
     "name": "stdout",
     "output_type": "stream",
     "text": [
      "Enter the Celsius Value 5\n",
      "5 degree celsius = 41.0 degree farhenheit\n"
     ]
    }
   ],
   "source": [
    "def celsiusToFarhenheit(celsi):\n",
    "    farhenheit = (9 * celsi + 160) / 5\n",
    "    print(f\"{celsi} degree celsius = {farhenheit} degree farhenheit\")\n",
    "    \n",
    "celsius = int(input(\"Enter the Celsius Value \"))\n",
    "celsiusToFarhenheit(celsius)"
   ]
  },
  {
   "cell_type": "markdown",
   "id": "56df0f85",
   "metadata": {},
   "source": [
    "3. Write a Python program to display calendar?"
   ]
  },
  {
   "cell_type": "code",
   "execution_count": 3,
   "id": "d4791659",
   "metadata": {},
   "outputs": [
    {
     "name": "stdout",
     "output_type": "stream",
     "text": [
      "Enter the Calendar Year: 2023\n",
      "                                  2023\n",
      "\n",
      "      January                   February                   March\n",
      "Mo Tu We Th Fr Sa Su      Mo Tu We Th Fr Sa Su      Mo Tu We Th Fr Sa Su\n",
      "                   1             1  2  3  4  5             1  2  3  4  5\n",
      " 2  3  4  5  6  7  8       6  7  8  9 10 11 12       6  7  8  9 10 11 12\n",
      " 9 10 11 12 13 14 15      13 14 15 16 17 18 19      13 14 15 16 17 18 19\n",
      "16 17 18 19 20 21 22      20 21 22 23 24 25 26      20 21 22 23 24 25 26\n",
      "23 24 25 26 27 28 29      27 28                     27 28 29 30 31\n",
      "30 31\n",
      "\n",
      "       April                      May                       June\n",
      "Mo Tu We Th Fr Sa Su      Mo Tu We Th Fr Sa Su      Mo Tu We Th Fr Sa Su\n",
      "                1  2       1  2  3  4  5  6  7                1  2  3  4\n",
      " 3  4  5  6  7  8  9       8  9 10 11 12 13 14       5  6  7  8  9 10 11\n",
      "10 11 12 13 14 15 16      15 16 17 18 19 20 21      12 13 14 15 16 17 18\n",
      "17 18 19 20 21 22 23      22 23 24 25 26 27 28      19 20 21 22 23 24 25\n",
      "24 25 26 27 28 29 30      29 30 31                  26 27 28 29 30\n",
      "\n",
      "        July                     August                  September\n",
      "Mo Tu We Th Fr Sa Su      Mo Tu We Th Fr Sa Su      Mo Tu We Th Fr Sa Su\n",
      "                1  2          1  2  3  4  5  6                   1  2  3\n",
      " 3  4  5  6  7  8  9       7  8  9 10 11 12 13       4  5  6  7  8  9 10\n",
      "10 11 12 13 14 15 16      14 15 16 17 18 19 20      11 12 13 14 15 16 17\n",
      "17 18 19 20 21 22 23      21 22 23 24 25 26 27      18 19 20 21 22 23 24\n",
      "24 25 26 27 28 29 30      28 29 30 31               25 26 27 28 29 30\n",
      "31\n",
      "\n",
      "      October                   November                  December\n",
      "Mo Tu We Th Fr Sa Su      Mo Tu We Th Fr Sa Su      Mo Tu We Th Fr Sa Su\n",
      "                   1             1  2  3  4  5                   1  2  3\n",
      " 2  3  4  5  6  7  8       6  7  8  9 10 11 12       4  5  6  7  8  9 10\n",
      " 9 10 11 12 13 14 15      13 14 15 16 17 18 19      11 12 13 14 15 16 17\n",
      "16 17 18 19 20 21 22      20 21 22 23 24 25 26      18 19 20 21 22 23 24\n",
      "23 24 25 26 27 28 29      27 28 29 30               25 26 27 28 29 30 31\n",
      "30 31\n",
      "\n"
     ]
    }
   ],
   "source": [
    "import calendar\n",
    "\n",
    "def showCalendar(year):\n",
    "    print(calendar.calendar(year))\n",
    "    \n",
    "year = int(input(\"Enter the Calendar Year: \"))\n",
    "showCalendar(year)"
   ]
  },
  {
   "cell_type": "markdown",
   "id": "5d4797f8",
   "metadata": {},
   "source": [
    "4. Write a Python program to solve quadratic equation?"
   ]
  },
  {
   "cell_type": "code",
   "execution_count": 4,
   "id": "b2f2c741",
   "metadata": {},
   "outputs": [
    {
     "name": "stdout",
     "output_type": "stream",
     "text": [
      "Enter the coefficient a 4\n",
      "Enter the coefficient b 5\n",
      "Enter the coefficient c 6\n",
      "The r1 and r2 are unreal or imaginary\n",
      "The value of r1 is (-0.625+1.0532687216470449j) and r2 is (-0.625-1.0532687216470449j)\n"
     ]
    }
   ],
   "source": [
    "import math\n",
    "import cmath\n",
    "\n",
    "def quardtic_equation(a,b,c):\n",
    "    discriminant = b*b - 4 * a * c\n",
    "    if(discriminant == 0):\n",
    "        r1 = -b/2*a\n",
    "        r2 = -b/2*a\n",
    "        print(\"The r1 and r2 are real and equal\")\n",
    "        print(f\"The value of r1 is {r1} and r2 is {r2}\")\n",
    "        \n",
    "    elif(discriminant>0):\n",
    "        r1 = (-b + math.sqrt(discriminant))/ (2 * a)\n",
    "        r2 = (-b - math.sqrt(discriminant)) / (2 * a)\n",
    "        print(\"The r1 and r2 are real and different\")\n",
    "        print(f\"The value of r1 is {r1} and r2 is {r2}\")\n",
    "        \n",
    "    elif(discriminant<0):\n",
    "        r1 = (-b + cmath.sqrt(discriminant)) / (2 * a)\n",
    "        r2 = (-b - cmath.sqrt(discriminant)) / (2 * a)\n",
    "        print(\"The r1 and r2 are unreal or imaginary\")\n",
    "        print(f\"The value of r1 is {r1} and r2 is {r2}\")\n",
    "        \n",
    "\n",
    "a = int(input(\"Enter the coefficient a \"))\n",
    "b = int(input(\"Enter the coefficient b \"))\n",
    "c = int(input(\"Enter the coefficient c \"))\n",
    "\n",
    "quardtic_equation(a,b,c)"
   ]
  },
  {
   "cell_type": "markdown",
   "id": "86535cb1",
   "metadata": {},
   "source": [
    "5. Write a Python program to swap two variables without temp variable?"
   ]
  },
  {
   "cell_type": "code",
   "execution_count": 5,
   "id": "3bbfbdb9",
   "metadata": {},
   "outputs": [
    {
     "name": "stdout",
     "output_type": "stream",
     "text": [
      "Enter the First Number3\n",
      "Enter the Second Number4\n",
      "The First Number is 4 and The Second Number is 3\n"
     ]
    }
   ],
   "source": [
    "def swap_num(firstNum,secondNum):\n",
    "    firstNum , secondNum = secondNum , firstNum\n",
    "    print(f\"The First Number is {firstNum} and The Second Number is {secondNum}\")\n",
    "    \n",
    "fNum = int(input(\"Enter the First Number\"))\n",
    "sNum = int(input(\"Enter the Second Number\"))\n",
    "\n",
    "swap_num(fNum,sNum)"
   ]
  },
  {
   "cell_type": "code",
   "execution_count": null,
   "id": "1268809a",
   "metadata": {},
   "outputs": [],
   "source": []
  }
 ],
 "metadata": {
  "kernelspec": {
   "display_name": "Python 3 (ipykernel)",
   "language": "python",
   "name": "python3"
  },
  "language_info": {
   "codemirror_mode": {
    "name": "ipython",
    "version": 3
   },
   "file_extension": ".py",
   "mimetype": "text/x-python",
   "name": "python",
   "nbconvert_exporter": "python",
   "pygments_lexer": "ipython3",
   "version": "3.9.7"
  }
 },
 "nbformat": 4,
 "nbformat_minor": 5
}
