{
 "cells": [
  {
   "cell_type": "markdown",
   "id": "57c0cc3c",
   "metadata": {},
   "source": [
    "1. Write a Python program to print \"Hello Python\"?"
   ]
  },
  {
   "cell_type": "code",
   "execution_count": 1,
   "id": "ddfbea03",
   "metadata": {},
   "outputs": [
    {
     "name": "stdout",
     "output_type": "stream",
     "text": [
      "Hello Python\n"
     ]
    }
   ],
   "source": [
    "print(\"Hello Python\")"
   ]
  },
  {
   "cell_type": "markdown",
   "id": "542ddcc6",
   "metadata": {},
   "source": [
    "2.Write a Python program to do arithmetical operations addition and division.?\n"
   ]
  },
  {
   "cell_type": "code",
   "execution_count": 2,
   "id": "eaaeb33b",
   "metadata": {},
   "outputs": [
    {
     "name": "stdout",
     "output_type": "stream",
     "text": [
      "Sum of two numbers: 6\n",
      "Division of two number is: 2.0\n"
     ]
    }
   ],
   "source": [
    "def addition(a,b):\n",
    "    print(\"Sum of two numbers:\",a+b)\n",
    "    \n",
    "addition(4,2)\n",
    "    \n",
    "def division(a,b):\n",
    "    print(\"Division of two number is:\",a/b)\n",
    "    \n",
    "division(4,2)"
   ]
  },
  {
   "cell_type": "markdown",
   "id": "c65063f7",
   "metadata": {},
   "source": [
    "3.Write a Python program to find the area of a triangle?"
   ]
  },
  {
   "cell_type": "code",
   "execution_count": 3,
   "id": "8c590fa0",
   "metadata": {},
   "outputs": [
    {
     "name": "stdout",
     "output_type": "stream",
     "text": [
      "Enter the Height of Triangle4\n",
      "Enter the Base of Triangle2\n",
      "Area of Triangle is 4.0\n"
     ]
    }
   ],
   "source": [
    "def area_triangle(base,height):\n",
    "    print(\"Area of Triangle is\",0.5 * base * height)\n",
    "\n",
    "height = int(input(\"Enter the Height of Triangle\"))\n",
    "base = int(input(\"Enter the Base of Triangle\"))\n",
    "\n",
    "area_triangle(base,height)"
   ]
  },
  {
   "cell_type": "markdown",
   "id": "e47d1bb6",
   "metadata": {},
   "source": [
    "4.Write a Python program to swap two variables?"
   ]
  },
  {
   "cell_type": "code",
   "execution_count": 4,
   "id": "f2eebc4e",
   "metadata": {},
   "outputs": [
    {
     "name": "stdout",
     "output_type": "stream",
     "text": [
      "Enter the first number2\n",
      "Enter the second number4\n",
      "Before Swapping --> 2 4\n",
      "After Swapping --> 4 2\n"
     ]
    }
   ],
   "source": [
    "# function to swap two numbers\n",
    "def swap_num(a,b):\n",
    "    temp = a\n",
    "    a = b\n",
    "    b = temp\n",
    "    \n",
    "    return a,b\n",
    "\n",
    "first_num = int(input(\"Enter the first number\"))\n",
    "second_num = int(input(\"Enter the second number\"))\n",
    "print(\"Before Swapping -->\",first_num,second_num)\n",
    "swap_first , swap_second = swap_num(first_num,second_num)\n",
    "print(\"After Swapping -->\",swap_first,swap_second)"
   ]
  },
  {
   "cell_type": "markdown",
   "id": "0752ead9",
   "metadata": {},
   "source": [
    "5.Write a Python program to generate a random number ?"
   ]
  },
  {
   "cell_type": "code",
   "execution_count": 5,
   "id": "f46d1029",
   "metadata": {},
   "outputs": [
    {
     "name": "stdout",
     "output_type": "stream",
     "text": [
      "4\n"
     ]
    }
   ],
   "source": [
    "import random\n",
    "\n",
    "# function to generate random number\n",
    "def generat_random_num(firstNum,secNum):\n",
    "    random_num = random.randint(first_num,secNum)\n",
    "    print(random_num)\n",
    "    \n",
    "generat_random_num(1,10)    "
   ]
  },
  {
   "cell_type": "code",
   "execution_count": null,
   "id": "e760343f",
   "metadata": {},
   "outputs": [],
   "source": []
  }
 ],
 "metadata": {
  "kernelspec": {
   "display_name": "Python 3 (ipykernel)",
   "language": "python",
   "name": "python3"
  },
  "language_info": {
   "codemirror_mode": {
    "name": "ipython",
    "version": 3
   },
   "file_extension": ".py",
   "mimetype": "text/x-python",
   "name": "python",
   "nbconvert_exporter": "python",
   "pygments_lexer": "ipython3",
   "version": "3.9.7"
  }
 },
 "nbformat": 4,
 "nbformat_minor": 5
}
