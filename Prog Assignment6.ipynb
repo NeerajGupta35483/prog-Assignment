{
 "cells": [
  {
   "cell_type": "markdown",
   "id": "92b74104",
   "metadata": {},
   "source": [
    "1. Write a Python Program to Display Fibonacci Sequence Using Recursion?"
   ]
  },
  {
   "cell_type": "code",
   "execution_count": 1,
   "id": "4cae6928",
   "metadata": {},
   "outputs": [
    {
     "name": "stdout",
     "output_type": "stream",
     "text": [
      "Enter The Range to print Fibonacci Series: 7\n",
      "0,1,1,2,3,5,8\n"
     ]
    }
   ],
   "source": [
    "def fiboRecur(n):\n",
    "    if n == 0:\n",
    "        return 0\n",
    "    elif n == 1:\n",
    "        return 1\n",
    "    else:\n",
    "        return fiboRecur(n-1) + fiboRecur(n-2)\n",
    "    \n",
    "numb = int(input(\"Enter The Range to print Fibonacci Series: \"))\n",
    "\n",
    "for i in range(numb):\n",
    "    if(i<numb - 1):\n",
    "        print(fiboRecur(i),end=\",\")\n",
    "    else:\n",
    "        print(fiboRecur(i))"
   ]
  },
  {
   "cell_type": "markdown",
   "id": "9ac8858e",
   "metadata": {},
   "source": [
    "2. Write a Python Program to Find Factorial of Number Using Recursion?"
   ]
  },
  {
   "cell_type": "code",
   "execution_count": 2,
   "id": "d5b08124",
   "metadata": {},
   "outputs": [],
   "source": [
    "def factRecur(n):\n",
    "    if(n==0 or n==1):\n",
    "        return 1\n",
    "    else:\n",
    "        return n * factRecur(n-1)"
   ]
  },
  {
   "cell_type": "code",
   "execution_count": 3,
   "id": "62e5bc8a",
   "metadata": {},
   "outputs": [
    {
     "data": {
      "text/plain": [
       "120"
      ]
     },
     "execution_count": 3,
     "metadata": {},
     "output_type": "execute_result"
    }
   ],
   "source": [
    "factRecur(5)"
   ]
  },
  {
   "cell_type": "markdown",
   "id": "47a4fd18",
   "metadata": {},
   "source": [
    "3. Write a Python Program to calculate your Body Mass Index?"
   ]
  },
  {
   "cell_type": "code",
   "execution_count": 4,
   "id": "cbea29f8",
   "metadata": {},
   "outputs": [
    {
     "name": "stdout",
     "output_type": "stream",
     "text": [
      "Enter Your Height(meter): 1.89\n",
      "Enter Your Weight(kgs): 89\n",
      "Your BMI is 24.915315920606925 and status is Normalrange\n"
     ]
    }
   ],
   "source": [
    "# BMI = weight / height ** 2\n",
    "\n",
    "def calculateBMI(height,weight):\n",
    "    BMI = weight / height ** 2\n",
    "    if(BMI < 18.5):\n",
    "        status = \"underweight\"\n",
    "    elif(BMI>=18.5 and BMI<25):\n",
    "        status = \"Normalrange\"\n",
    "    elif(BMI>=25 and BMI<30):\n",
    "        status = \"Overweight\"\n",
    "    elif(BMI>=30):\n",
    "        status = \"Obese\"\n",
    "        \n",
    "    print(f\"Your BMI is {BMI} and status is {status}\")\n",
    "    \n",
    "h = float(input(\"Enter Your Height(meter): \"))\n",
    "w = float(input(\"Enter Your Weight(kgs): \"))\n",
    "calculateBMI(h,w)"
   ]
  },
  {
   "cell_type": "markdown",
   "id": "97bdf8cd",
   "metadata": {},
   "source": [
    "4. Write a Python Program to calculate the natural logarithm of any number?\n"
   ]
  },
  {
   "cell_type": "code",
   "execution_count": 5,
   "id": "cb6895c5",
   "metadata": {},
   "outputs": [
    {
     "name": "stdout",
     "output_type": "stream",
     "text": [
      "Enter The Number:67\n",
      "The Natural Logarithm of 67 is 4.204692619390966\n"
     ]
    }
   ],
   "source": [
    "import math\n",
    "\n",
    "def naturalLogCal(numb):\n",
    "    print(f\"The Natural Logarithm of {numb} is {math.log(numb)}\")\n",
    "    \n",
    "num = int(input(\"Enter The Number:\"))\n",
    "naturalLogCal(num)\n",
    "    "
   ]
  },
  {
   "cell_type": "markdown",
   "id": "f21b8fc4",
   "metadata": {},
   "source": [
    "5. Write a Python Program for cube sum of first n natural numbers?"
   ]
  },
  {
   "cell_type": "code",
   "execution_count": 6,
   "id": "a115d6f3",
   "metadata": {},
   "outputs": [
    {
     "name": "stdout",
     "output_type": "stream",
     "text": [
      "Enter the Number of Natural Numbers: 7\n",
      "Cube sum of first 7 natural number is 784\n"
     ]
    }
   ],
   "source": [
    "def sumOfNaturalNumber(n):\n",
    "    sum = 0\n",
    "    for i in range(1,n+1):\n",
    "        sum = sum + i**3\n",
    "        \n",
    "    print(f\"Cube sum of first {n} natural number is {sum}\")\n",
    "    \n",
    "rang = int(input(\"Enter the Number of Natural Numbers: \"))\n",
    "sumOfNaturalNumber(rang)\n",
    "        "
   ]
  },
  {
   "cell_type": "code",
   "execution_count": null,
   "id": "09160791",
   "metadata": {},
   "outputs": [],
   "source": []
  }
 ],
 "metadata": {
  "kernelspec": {
   "display_name": "Python 3 (ipykernel)",
   "language": "python",
   "name": "python3"
  },
  "language_info": {
   "codemirror_mode": {
    "name": "ipython",
    "version": 3
   },
   "file_extension": ".py",
   "mimetype": "text/x-python",
   "name": "python",
   "nbconvert_exporter": "python",
   "pygments_lexer": "ipython3",
   "version": "3.9.7"
  }
 },
 "nbformat": 4,
 "nbformat_minor": 5
}
